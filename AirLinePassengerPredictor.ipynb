{
 "cells": [
  {
   "cell_type": "markdown",
   "metadata": {},
   "source": [
    "## Importing neccessary libraries"
   ]
  },
  {
   "cell_type": "code",
   "execution_count": 1,
   "metadata": {},
   "outputs": [],
   "source": [
    "import numpy as np\n",
    "import pandas as pd\n",
    "import matplotlib.pyplot as plt\n",
    "import tensorflow as tf\n",
    "from tensorflow.keras.models import Sequential\n",
    "from tensorflow.keras.layers import Dense,LSTM\n",
    "from sklearn.preprocessing import MinMaxScaler"
   ]
  },
  {
   "cell_type": "code",
   "execution_count": 2,
   "metadata": {},
   "outputs": [
    {
     "data": {
      "text/html": [
       "<div>\n",
       "<style scoped>\n",
       "    .dataframe tbody tr th:only-of-type {\n",
       "        vertical-align: middle;\n",
       "    }\n",
       "\n",
       "    .dataframe tbody tr th {\n",
       "        vertical-align: top;\n",
       "    }\n",
       "\n",
       "    .dataframe thead th {\n",
       "        text-align: right;\n",
       "    }\n",
       "</style>\n",
       "<table border=\"1\" class=\"dataframe\">\n",
       "  <thead>\n",
       "    <tr style=\"text-align: right;\">\n",
       "      <th></th>\n",
       "      <th>Month</th>\n",
       "      <th>#Passengers</th>\n",
       "    </tr>\n",
       "  </thead>\n",
       "  <tbody>\n",
       "    <tr>\n",
       "      <th>0</th>\n",
       "      <td>1949-01</td>\n",
       "      <td>112</td>\n",
       "    </tr>\n",
       "    <tr>\n",
       "      <th>1</th>\n",
       "      <td>1949-02</td>\n",
       "      <td>118</td>\n",
       "    </tr>\n",
       "    <tr>\n",
       "      <th>2</th>\n",
       "      <td>1949-03</td>\n",
       "      <td>132</td>\n",
       "    </tr>\n",
       "    <tr>\n",
       "      <th>3</th>\n",
       "      <td>1949-04</td>\n",
       "      <td>129</td>\n",
       "    </tr>\n",
       "    <tr>\n",
       "      <th>4</th>\n",
       "      <td>1949-05</td>\n",
       "      <td>121</td>\n",
       "    </tr>\n",
       "  </tbody>\n",
       "</table>\n",
       "</div>"
      ],
      "text/plain": [
       "     Month  #Passengers\n",
       "0  1949-01          112\n",
       "1  1949-02          118\n",
       "2  1949-03          132\n",
       "3  1949-04          129\n",
       "4  1949-05          121"
      ]
     },
     "execution_count": 2,
     "metadata": {},
     "output_type": "execute_result"
    }
   ],
   "source": [
    "data = pd.read_csv('AirPassengers.csv')\n",
    "data.head()"
   ]
  },
  {
   "cell_type": "code",
   "execution_count": 3,
   "metadata": {},
   "outputs": [],
   "source": [
    "data.rename(columns={'#Passengers':'passengers'},inplace=True)\n",
    "data = data['passengers']\n",
    "data=np.array(data).reshape(-1,1)"
   ]
  },
  {
   "cell_type": "code",
   "execution_count": 4,
   "metadata": {
    "scrolled": true
   },
   "outputs": [
    {
     "data": {
      "text/plain": [
       "[<matplotlib.lines.Line2D at 0x1da0c9eb390>]"
      ]
     },
     "execution_count": 4,
     "metadata": {},
     "output_type": "execute_result"
    },
    {
     "data": {
      "image/png": "[encoded data removed]",
      "text/plain": [
       "<Figure size 432x288 with 1 Axes>"
      ]
     },
     "metadata": {
      "needs_background": "light"
     },
     "output_type": "display_data"
    }
   ],
   "source": [
    "plt.plot(data)"
   ]
  },
  {
   "cell_type": "markdown",
   "metadata": {},
   "source": [
    "## Feature Scaling"
   ]
  },
  {
   "cell_type": "code",
   "execution_count": 5,
   "metadata": {},
   "outputs": [],
   "source": [
    "scaler= MinMaxScaler()\n",
    "data=scaler.fit_transform(data)"
   ]
  },
  {
   "cell_type": "code",
   "execution_count": 6,
   "metadata": {},
   "outputs": [],
   "source": [
    "train_size=100\n",
    "test_size=44"
   ]
  },
  {
   "cell_type": "code",
   "execution_count": 7,
   "metadata": {},
   "outputs": [],
   "source": [
    "train=data[0:train_size,:]\n",
    "test=data[train_size:,:]"
   ]
  },
  {
   "cell_type": "code",
   "execution_count": 8,
   "metadata": {},
   "outputs": [
    {
     "data": {
      "text/plain": [
       "(100, 1)"
      ]
     },
     "execution_count": 8,
     "metadata": {},
     "output_type": "execute_result"
    }
   ],
   "source": [
    "train.shape"
   ]
  },
  {
   "cell_type": "code",
   "execution_count": 9,
   "metadata": {},
   "outputs": [
    {
     "data": {
      "text/plain": [
       "(44, 1)"
      ]
     },
     "execution_count": 9,
     "metadata": {},
     "output_type": "execute_result"
    }
   ],
   "source": [
    "test.shape"
   ]
  },
  {
   "cell_type": "code",
   "execution_count": 14,
   "metadata": {},
   "outputs": [],
   "source": [
    "def get_data(data, look_back):\n",
    "    dataX, dataY = [], []\n",
    "    for i in range(len(data)-look_back-1):\n",
    "        a = data[i:(i+look_back), 0]\n",
    "        dataX.append(a)\n",
    "        dataY.append(data[i+look_back, 0])\n",
    "    return np.array(dataX), np.array(dataY)"
   ]
  },
  {
   "cell_type": "code",
   "execution_count": 15,
   "metadata": {},
   "outputs": [],
   "source": [
    "look_back = 1\n",
    "X_train, y_train = get_data(train, look_back)"
   ]
  },
  {
   "cell_type": "code",
   "execution_count": 16,
   "metadata": {},
   "outputs": [
    {
     "data": {
      "text/plain": [
       "(98, 1)"
      ]
     },
     "execution_count": 16,
     "metadata": {},
     "output_type": "execute_result"
    }
   ],
   "source": [
    "X_train.shape"
   ]
  },
  {
   "cell_type": "code",
   "execution_count": 17,
   "metadata": {},
   "outputs": [],
   "source": [
    "X_test, y_test = get_data(test, look_back)"
   ]
  },
  {
   "cell_type": "code",
   "execution_count": 20,
   "metadata": {},
   "outputs": [],
   "source": [
    "X_train = X_train.reshape(X_train.shape[0], X_train.shape[1], 1)\n",
    "X_test = X_test.reshape(X_test.shape[0], X_test.shape[1], 1)"
   ]
  },
  {
   "cell_type": "code",
   "execution_count": 21,
   "metadata": {},
   "outputs": [
    {
     "data": {
      "text/plain": [
       "(98, 1, 1)"
      ]
     },
     "execution_count": 21,
     "metadata": {},
     "output_type": "execute_result"
    }
   ],
   "source": [
    "X_train.shape"
   ]
  },
  {
   "cell_type": "code",
   "execution_count": 28,
   "metadata": {},
   "outputs": [
    {
     "data": {
      "text/plain": [
       "numpy.ndarray"
      ]
     },
     "execution_count": 28,
     "metadata": {},
     "output_type": "execute_result"
    }
   ],
   "source": [
    "type(y_test)"
   ]
  },
  {
   "cell_type": "markdown",
   "metadata": {},
   "source": [
    "## Building the RNN"
   ]
  },
  {
   "cell_type": "code",
   "execution_count": 22,
   "metadata": {},
   "outputs": [],
   "source": [
    "model = Sequential()\n",
    "model.add(LSTM(5, input_shape = (1, look_back)))\n",
    "model.add(Dense(1))\n",
    "model.compile(loss = 'mean_squared_error', optimizer = 'adam')"
   ]
  },
  {
   "cell_type": "code",
   "execution_count": 23,
   "metadata": {},
   "outputs": [
    {
     "name": "stdout",
     "output_type": "stream",
     "text": [
      "Model: \"sequential\"\n",
      "_________________________________________________________________\n",
      "Layer (type)                 Output Shape              Param #   \n",
      "=================================================================\n",
      "lstm (LSTM)                  (None, 5)                 140       \n",
      "_________________________________________________________________\n",
      "dense (Dense)                (None, 1)                 6         \n",
      "=================================================================\n",
      "Total params: 146\n",
      "Trainable params: 146\n",
      "Non-trainable params: 0\n",
      "_________________________________________________________________\n"
     ]
    }
   ],
   "source": [
    "model.summary()"
   ]
  },
  {
   "cell_type": "code",
   "execution_count": 24,
   "metadata": {
    "scrolled": false
   },
   "outputs": [
    {
     "name": "stdout",
     "output_type": "stream",
     "text": [
      "Train on 98 samples\n",
      "Epoch 1/50\n",
      "WARNING:tensorflow:Entity <function Function._initialize_uninitialized_variables.<locals>.initialize_variables at 0x000001DA0CD4AE18> could not be transformed and will be executed as-is. Please report this to the AutoGraph team. When filing the bug, set the verbosity to 10 (on Linux, `export AUTOGRAPH_VERBOSITY=10`) and attach the full output. Cause: module 'gast' has no attribute 'Num'\n",
      "WARNING: Entity <function Function._initialize_uninitialized_variables.<locals>.initialize_variables at 0x000001DA0CD4AE18> could not be transformed and will be executed as-is. Please report this to the AutoGraph team. When filing the bug, set the verbosity to 10 (on Linux, `export AUTOGRAPH_VERBOSITY=10`) and attach the full output. Cause: module 'gast' has no attribute 'Num'\n",
      "98/98 [==============================] - 2s 23ms/sample - loss: 0.0505\n",
      "Epoch 2/50\n",
      "98/98 [==============================] - 0s 3ms/sample - loss: 0.0235\n",
      "Epoch 3/50\n",
      "98/98 [==============================] - 0s 3ms/sample - loss: 0.0169\n",
      "Epoch 4/50\n",
      "98/98 [==============================] - 0s 3ms/sample - loss: 0.0150\n",
      "Epoch 5/50\n",
      "98/98 [==============================] - 0s 2ms/sample - loss: 0.0138\n",
      "Epoch 6/50\n",
      "98/98 [==============================] - 0s 2ms/sample - loss: 0.0125\n",
      "Epoch 7/50\n",
      "98/98 [==============================] - 0s 2ms/sample - loss: 0.0113\n",
      "Epoch 8/50\n",
      "98/98 [==============================] - 0s 3ms/sample - loss: 0.0101\n",
      "Epoch 9/50\n",
      "98/98 [==============================] - 0s 2ms/sample - loss: 0.0090\n",
      "Epoch 10/50\n",
      "98/98 [==============================] - 0s 2ms/sample - loss: 0.0078\n",
      "Epoch 11/50\n",
      "98/98 [==============================] - 0s 2ms/sample - loss: 0.0066\n",
      "Epoch 12/50\n",
      "98/98 [==============================] - 0s 3ms/sample - loss: 0.0056\n",
      "Epoch 13/50\n",
      "98/98 [==============================] - 0s 3ms/sample - loss: 0.0048\n",
      "Epoch 14/50\n",
      "98/98 [==============================] - 0s 3ms/sample - loss: 0.0039\n",
      "Epoch 15/50\n",
      "98/98 [==============================] - 0s 3ms/sample - loss: 0.0033\n",
      "Epoch 16/50\n",
      "98/98 [==============================] - 0s 4ms/sample - loss: 0.0028\n",
      "Epoch 17/50\n",
      "98/98 [==============================] - 0s 3ms/sample - loss: 0.0025\n",
      "Epoch 18/50\n",
      "98/98 [==============================] - 0s 3ms/sample - loss: 0.0023\n",
      "Epoch 19/50\n",
      "98/98 [==============================] - 0s 4ms/sample - loss: 0.0022\n",
      "Epoch 20/50\n",
      "98/98 [==============================] - 0s 2ms/sample - loss: 0.0021\n",
      "Epoch 21/50\n",
      "98/98 [==============================] - 0s 2ms/sample - loss: 0.0022\n",
      "Epoch 22/50\n",
      "98/98 [==============================] - 0s 2ms/sample - loss: 0.0021\n",
      "Epoch 23/50\n",
      "98/98 [==============================] - 0s 2ms/sample - loss: 0.0021\n",
      "Epoch 24/50\n",
      "98/98 [==============================] - 0s 2ms/sample - loss: 0.0021\n",
      "Epoch 25/50\n",
      "98/98 [==============================] - 0s 2ms/sample - loss: 0.0021\n",
      "Epoch 26/50\n",
      "98/98 [==============================] - 0s 2ms/sample - loss: 0.0021\n",
      "Epoch 27/50\n",
      "98/98 [==============================] - 0s 2ms/sample - loss: 0.0021\n",
      "Epoch 28/50\n",
      "98/98 [==============================] - 0s 2ms/sample - loss: 0.0021\n",
      "Epoch 29/50\n",
      "98/98 [==============================] - 0s 2ms/sample - loss: 0.0021\n",
      "Epoch 30/50\n",
      "98/98 [==============================] - 0s 2ms/sample - loss: 0.0021\n",
      "Epoch 31/50\n",
      "98/98 [==============================] - 0s 2ms/sample - loss: 0.0022\n",
      "Epoch 32/50\n",
      "98/98 [==============================] - 0s 2ms/sample - loss: 0.0020\n",
      "Epoch 33/50\n",
      "98/98 [==============================] - 0s 2ms/sample - loss: 0.0021\n",
      "Epoch 34/50\n",
      "98/98 [==============================] - 0s 2ms/sample - loss: 0.0021\n",
      "Epoch 35/50\n",
      "98/98 [==============================] - 0s 2ms/sample - loss: 0.0021\n",
      "Epoch 36/50\n",
      "98/98 [==============================] - 0s 2ms/sample - loss: 0.0021\n",
      "Epoch 37/50\n",
      "98/98 [==============================] - 0s 2ms/sample - loss: 0.0020\n",
      "Epoch 38/50\n",
      "98/98 [==============================] - 0s 2ms/sample - loss: 0.0021\n",
      "Epoch 39/50\n",
      "98/98 [==============================] - 0s 3ms/sample - loss: 0.0021\n",
      "Epoch 40/50\n",
      "98/98 [==============================] - 0s 3ms/sample - loss: 0.0021\n",
      "Epoch 41/50\n",
      "98/98 [==============================] - 0s 3ms/sample - loss: 0.0021TA: 0s - loss: 0.0\n",
      "Epoch 42/50\n",
      "98/98 [==============================] - 0s 4ms/sample - loss: 0.0021\n",
      "Epoch 43/50\n",
      "98/98 [==============================] - 0s 2ms/sample - loss: 0.0021\n",
      "Epoch 44/50\n",
      "98/98 [==============================] - 0s 3ms/sample - loss: 0.0021ETA: 0s - loss: 0.\n",
      "Epoch 45/50\n",
      "98/98 [==============================] - 0s 3ms/sample - loss: 0.0021\n",
      "Epoch 46/50\n",
      "98/98 [==============================] - 0s 3ms/sample - loss: 0.0022\n",
      "Epoch 47/50\n",
      "98/98 [==============================] - 0s 3ms/sample - loss: 0.0021\n",
      "Epoch 48/50\n",
      "98/98 [==============================] - 0s 3ms/sample - loss: 0.0021\n",
      "Epoch 49/50\n",
      "98/98 [==============================] - 0s 3ms/sample - loss: 0.0021\n",
      "Epoch 50/50\n",
      "98/98 [==============================] - 0s 3ms/sample - loss: 0.0022\n"
     ]
    },
    {
     "data": {
      "text/plain": [
       "<tensorflow.python.keras.callbacks.History at 0x1da0cc99e10>"
      ]
     },
     "execution_count": 24,
     "metadata": {},
     "output_type": "execute_result"
    }
   ],
   "source": [
    "model.fit(X_train, y_train, epochs=50, batch_size=1)"
   ]
  },
  {
   "cell_type": "code",
   "execution_count": 25,
   "metadata": {},
   "outputs": [],
   "source": [
    "y_pred = model.predict(X_test)"
   ]
  },
  {
   "cell_type": "code",
   "execution_count": 26,
   "metadata": {},
   "outputs": [
    {
     "data": {
      "text/plain": [
       "array([0.0019305])"
      ]
     },
     "execution_count": 26,
     "metadata": {},
     "output_type": "execute_result"
    }
   ],
   "source": [
    "scaler.scale_"
   ]
  },
  {
   "cell_type": "code",
   "execution_count": 27,
   "metadata": {},
   "outputs": [],
   "source": [
    "y_pred = scaler.inverse_transform(y_pred)"
   ]
  },
  {
   "cell_type": "code",
   "execution_count": 29,
   "metadata": {},
   "outputs": [],
   "source": [
    "y_test = y_test.reshape(-1, 1)\n",
    "y_test = scaler.inverse_transform(y_test)"
   ]
  },
  {
   "cell_type": "code",
   "execution_count": 30,
   "metadata": {},
   "outputs": [
    {
     "data": {
      "image/png": "[encoded data removed]",
      "text/plain": [
       "<Figure size 1008x360 with 1 Axes>"
      ]
     },
     "metadata": {
      "needs_background": "light"
     },
     "output_type": "display_data"
    }
   ],
   "source": [
    "# plot baseline and predictions\n",
    "plt.figure(figsize=(14,5))\n",
    "plt.plot(y_test, label = 'real number of passengers')\n",
    "plt.plot(y_pred, label = 'predicted number of passengers')\n",
    "plt.ylabel('# passengers')\n",
    "plt.legend()\n",
    "plt.show()"
   ]
  },
  {
   "cell_type": "code",
   "execution_count": null,
   "metadata": {},
   "outputs": [],
   "source": []
  }
 ],
 "metadata": {
  "kernelspec": {
   "display_name": "Python 3",
   "language": "python",
   "name": "python3"
  },
  "language_info": {
   "codemirror_mode": {
    "name": "ipython",
    "version": 3
   },
   "file_extension": ".py",
   "mimetype": "text/x-python",
   "name": "python",
   "nbconvert_exporter": "python",
   "pygments_lexer": "ipython3",
   "version": "3.7.3"
  }
 },
 "nbformat": 4,
 "nbformat_minor": 2
}
